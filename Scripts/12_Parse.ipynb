{
 "cells": [
  {
   "cell_type": "code",
   "execution_count": 11,
   "metadata": {},
   "outputs": [],
   "source": [
    "import fitz\n",
    "import matplotlib.pyplot as plt\n",
    "import numpy as np"
   ]
  },
  {
   "cell_type": "code",
   "execution_count": 89,
   "metadata": {},
   "outputs": [],
   "source": [
    "def find_threshold(doc):\n",
    "    diffs = []\n",
    "    for pageNo in range(10,doc.pageCount):\n",
    "        page = doc[pageNo]\n",
    "        words = page.getTextWords()\n",
    "        \n",
    "        for i in range(len(words)):\n",
    "            piece = words[i]\n",
    "            if i+1<len(words):\n",
    "                next_piece = words[i+1]\n",
    "            else:\n",
    "                next_piece = None\n",
    "            \n",
    "            if next_piece != None:\n",
    "                if next_piece[1]-piece[1] > 0.1 and next_piece[1]-piece[1]<page.bound()[3]/10: \n",
    "                    diffs.append(next_piece[1]-piece[1])\n",
    " \n",
    "    plt.figure()\n",
    "    n, bins, patches = plt.hist(diffs, bins=100, label=\"Difference\", alpha=0.5, color=\"r\")\n",
    "    plt.legend(loc=1)\n",
    "    plt.xlabel(\"Score\")\n",
    "    plt.ylabel(\"Frequency\")\n",
    "    plt.xticks(np.arange(10, 15, 0.25))\n",
    "    plt.xlim(10, 15)\n",
    "    plt.show()"
   ]
  },
  {
   "cell_type": "code",
   "execution_count": 20,
   "metadata": {},
   "outputs": [],
   "source": [
    "def in_same_row(piece, next_piece):\n",
    "    if next_piece[1] > piece[3] or next_piece[3] < piece[1]:\n",
    "        return False\n",
    "    else:\n",
    "        return True"
   ]
  },
  {
   "cell_type": "code",
   "execution_count": 21,
   "metadata": {},
   "outputs": [],
   "source": [
    "def paragraph_ending(piece, next_piece, threshold):\n",
    "    if next_piece == None:\n",
    "        return True\n",
    "    if in_same_row(piece, next_piece):\n",
    "        return False\n",
    "    else:\n",
    "        if abs(next_piece[1] - piece[1]) > threshold:\n",
    "            return True\n",
    "        else:\n",
    "            return False"
   ]
  },
  {
   "cell_type": "code",
   "execution_count": 99,
   "metadata": {},
   "outputs": [],
   "source": [
    "def create_txt(doc, threshold, start_page, end_page, exclude_pages):\n",
    "    blocks = []\n",
    "    block = \"\"\n",
    "    min_y = doc[0].bound()[3]+1\n",
    "    max_y = 0\n",
    "    min_x = doc[0].bound()[2]+1\n",
    "    max_x = 0\n",
    "    for pageNo in range(start_page, end_page):\n",
    "        if pageNo in exclude_pages:\n",
    "            continue\n",
    "        page = doc[pageNo]\n",
    "        first = True\n",
    "        nextSpace = True\n",
    "        words = page.getTextWords()\n",
    "        for i in range(len(words)):\n",
    "            piece = words[i]\n",
    "            if i+1<len(words):\n",
    "                next_piece = words[i+1]\n",
    "            else:\n",
    "                next_piece = None\n",
    "            word = piece[4]\n",
    "            \n",
    "            #update boundary\n",
    "            min_y = min(min_y, piece[1])\n",
    "            max_y = max(max_y, piece[3])\n",
    "            \n",
    "            min_x = min(min_x, piece[0])\n",
    "            max_x = max(max_x, piece[2])\n",
    "            \n",
    "            if first and word==str(pageNo+1):\n",
    "                first = False\n",
    "                continue\n",
    "            else:\n",
    "                if next_piece==None:\n",
    "                    block += word\n",
    "                    blocks.append({\"block\":block, \"pageNo\":pageNo,\"rectangle\":(min_x, min_y, max_x, max_y)})\n",
    "                    \n",
    "                    block = \"\"\n",
    "                    min_y = doc[0].bound()[3]+1\n",
    "                    max_y = 0\n",
    "                    min_x = doc[0].bound()[2]+1\n",
    "                    max_x = 0\n",
    "                else:\n",
    "                    if paragraph_ending(piece, next_piece, threshold):\n",
    "                        block += word\n",
    "                        blocks.append({\"block\":block, \"pageNo\":pageNo,\"rectangle\":(min_x, min_y, max_x, max_y)})\n",
    "                        \n",
    "                        block = \"\"\n",
    "                        min_y = doc[0].bound()[3]+1\n",
    "                        max_y = 0\n",
    "                        min_x = doc[0].bound()[2]+1\n",
    "                        max_x = 0\n",
    "                    else:\n",
    "                        if word.endswith(\"-\"):\n",
    "                            block += word[:-1]\n",
    "                        else:\n",
    "                            block += word+\" \"\n",
    "    return blocks"
   ]
  },
  {
   "cell_type": "code",
   "execution_count": 100,
   "metadata": {},
   "outputs": [],
   "source": [
    "doc = fitz.open(\"Data/Cografya_12_2018-2019.pdf\")"
   ]
  },
  {
   "cell_type": "code",
   "execution_count": 101,
   "metadata": {},
   "outputs": [
    {
     "data": {
      "image/png": "[encoded data removed]",
      "text/plain": [
       "<Figure size 432x288 with 1 Axes>"
      ]
     },
     "metadata": {
      "needs_background": "light"
     },
     "output_type": "display_data"
    }
   ],
   "source": [
    "find_threshold(doc)"
   ]
  },
  {
   "cell_type": "code",
   "execution_count": 102,
   "metadata": {},
   "outputs": [],
   "source": [
    "threshold = 18\n",
    "start_page = 12\n",
    "end_page = 210\n",
    "exclude_pages = [26,27,28,45,46,70,71,88,89,110,111,126,127,145,146,166,167,191,192,193,194,195]"
   ]
  },
  {
   "cell_type": "code",
   "execution_count": 103,
   "metadata": {},
   "outputs": [],
   "source": [
    "book = create_txt(doc, threshold, start_page, end_page, exclude_pages)"
   ]
  },
  {
   "cell_type": "code",
   "execution_count": 105,
   "metadata": {},
   "outputs": [],
   "source": [
    "content = \"\"\n",
    "for paragraph in sorted(book, key = lambda x: (x[\"pageNo\"], x[\"rectangle\"][1])):\n",
    "    if len(paragraph[\"block\"].split()) > 3:\n",
    "        content += paragraph[\"block\"]+\"\\n\\n\""
   ]
  },
  {
   "cell_type": "code",
   "execution_count": 106,
   "metadata": {},
   "outputs": [],
   "source": [
    "with open(\"Data/Cografya_12.txt\", \"w\") as f:\n",
    "    f.write(content)"
   ]
  }
 ],
 "metadata": {
  "kernelspec": {
   "display_name": "Python 3",
   "language": "python",
   "name": "python3"
  },
  "language_info": {
   "codemirror_mode": {
    "name": "ipython",
    "version": 3
   },
   "file_extension": ".py",
   "mimetype": "text/x-python",
   "name": "python",
   "nbconvert_exporter": "python",
   "pygments_lexer": "ipython3",
   "version": "3.6.7"
  }
 },
 "nbformat": 4,
 "nbformat_minor": 2
}
