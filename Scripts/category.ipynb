{
 "cells": [
  {
   "cell_type": "code",
   "execution_count": 1,
   "metadata": {},
   "outputs": [],
   "source": [
    "import json\n",
    "import numpy as np\n",
    "from gensim.models import KeyedVectors\n",
    "from sklearn.linear_model import LogisticRegression\n",
    "from sklearn.model_selection import train_test_split"
   ]
  },
  {
   "cell_type": "code",
   "execution_count": 2,
   "metadata": {},
   "outputs": [],
   "source": [
    "word_vectors = KeyedVectors.load_word2vec_format('trmodel', binary=True)"
   ]
  },
  {
   "cell_type": "code",
   "execution_count": 3,
   "metadata": {},
   "outputs": [],
   "source": [
    "with open(\"items.json\") as f:\n",
    "    items = json.load(f)"
   ]
  },
  {
   "cell_type": "code",
   "execution_count": 44,
   "metadata": {},
   "outputs": [],
   "source": [
    "parent = {}"
   ]
  },
  {
   "cell_type": "code",
   "execution_count": 45,
   "metadata": {},
   "outputs": [],
   "source": [
    "num_cat = len(items)\n",
    "cat_id = 0\n",
    "category_in_mapping = {}\n",
    "category_out_mapping = {}\n",
    "for category in items:\n",
    "    category_in_mapping[cat_id] = category[\"Kategori\"]\n",
    "    category_out_mapping[category[\"Kategori\"]] = cat_id\n",
    "    if category[\"Ana kategori\"] in parent:\n",
    "        parent[category[\"Ana kategori\"]].append(category[\"Kategori\"])\n",
    "    else:\n",
    "        parent[category[\"Ana kategori\"]] = [category[\"Kategori\"]]\n",
    "    cat_id += 1"
   ]
  },
  {
   "cell_type": "code",
   "execution_count": 46,
   "metadata": {},
   "outputs": [
    {
     "data": {
      "text/plain": [
       "{'Gıda, Şekerleme': ['Şekersiz Tatlandırıcılı Ürünler',\n",
       "  'Sıvı Yağlar',\n",
       "  'Çikolata, Gofret',\n",
       "  'Şeker',\n",
       "  'Bisküvi, Çerez',\n",
       "  'Hazır Yemek, Konserve, Salça',\n",
       "  'Meze',\n",
       "  'Çorba Ve Bulyonlar',\n",
       "  'Tuz, Baharat, Harç',\n",
       "  'Sağlıklı Yaşam Ürünleri',\n",
       "  'Unlu Mamül, Tatlı',\n",
       "  'Sakız, Şekerleme',\n",
       "  'Dondurulmuş Gıda',\n",
       "  'Bakliyat, Makarna'],\n",
       " 'Deterjan, Temizlik': ['Çamaşır Gereçleri',\n",
       "  'Ev Temizlik Gereçleri',\n",
       "  'Banyo Gereçleri',\n",
       "  'Bulaşık Yıkama',\n",
       "  'Ev Temizlik Ürünleri',\n",
       "  'Çamaşır Yıkama'],\n",
       " 'Süt, Kahvaltılık': ['Yoğurt',\n",
       "  'Süt',\n",
       "  'Yumurta',\n",
       "  'Dondurma',\n",
       "  'Peynir',\n",
       "  'Sütlü Tatlı, Krema',\n",
       "  'Tereyağ, Margarin',\n",
       "  'Kahvaltılıklar'],\n",
       " 'İçecek': ['Gazlı İçecekler',\n",
       "  'Çay, Kahve',\n",
       "  'Günlük İçecek',\n",
       "  'Sular',\n",
       "  'Maden Suları',\n",
       "  'Gazsız İçecekler'],\n",
       " 'Kağıt, Kozmetik': ['Hijyenik Pedler',\n",
       "  'Makyaj Ve Süs Ürünleri',\n",
       "  'Ağdalar, Tüy Dökücüler',\n",
       "  'Tıraş Malzemeleri',\n",
       "  'Sağlık Ürünleri',\n",
       "  'Vücut, Cilt Bakım',\n",
       "  'Ağız Bakım Ürünleri',\n",
       "  'Kağıt Ürünleri',\n",
       "  'Parfüm, Deodorant',\n",
       "  'Duş, Banyo, Sabun',\n",
       "  'Saç Bakım'],\n",
       " 'Bebek, Oyuncak': ['Anne Ürünleri',\n",
       "  'Bebek Ürünleri',\n",
       "  'Oyuncaklar',\n",
       "  'Bebek Bezi'],\n",
       " 'Et, Balık, Kümes': ['Kırmızı Et', 'Kümes Hayvanları'],\n",
       " 'Ev, Pet': ['Kişisel İlgi, Eğlence',\n",
       "  'Bahçe, Çiçek, Kamp, Piknik',\n",
       "  'Kitap, Dergi, Kırtasiye',\n",
       "  'Elektrik, Elektronik',\n",
       "  'Ev, Ofis, Bahçe Dekorasyon',\n",
       "  'Pet Ürünleri',\n",
       "  'Tekstil, Giyim, Aksesuar',\n",
       "  'Mutfak Eşya, Gereçleri'],\n",
       " 'Meyve, Sebze': ['Meyve', 'Sebze']}"
      ]
     },
     "execution_count": 46,
     "metadata": {},
     "output_type": "execute_result"
    }
   ],
   "source": [
    "parent"
   ]
  },
  {
   "cell_type": "code",
   "execution_count": 30,
   "metadata": {},
   "outputs": [
    {
     "name": "stdout",
     "output_type": "stream",
     "text": [
      "{0: 'Şekersiz Tatlandırıcılı Ürünler', 1: 'Sıvı Yağlar', 2: 'Çamaşır Gereçleri', 3: 'Yoğurt', 4: 'Çikolata, Gofret', 5: 'Gazlı İçecekler', 6: 'Süt', 7: 'Çay, Kahve', 8: 'Ev Temizlik Gereçleri', 9: 'Banyo Gereçleri', 10: 'Hijyenik Pedler', 11: 'Anne Ürünleri', 12: 'Kırmızı Et', 13: 'Makyaj Ve Süs Ürünleri', 14: 'Günlük İçecek', 15: 'Şeker', 16: 'Bisküvi, Çerez', 17: 'Yumurta', 18: 'Hazır Yemek, Konserve, Salça', 19: 'Meze', 20: 'Sular', 21: 'Kişisel İlgi, Eğlence', 22: 'Dondurma', 23: 'Çorba Ve Bulyonlar', 24: 'Ağdalar, Tüy Dökücüler', 25: 'Peynir', 26: 'Bulaşık Yıkama', 27: 'Bebek Ürünleri', 28: 'Meyve', 29: 'Tıraş Malzemeleri', 30: 'Bahçe, Çiçek, Kamp, Piknik', 31: 'Sağlık Ürünleri', 32: 'Kitap, Dergi, Kırtasiye', 33: 'Tuz, Baharat, Harç', 34: 'Elektrik, Elektronik', 35: 'Oyuncaklar', 36: 'Ev Temizlik Ürünleri', 37: 'Vücut, Cilt Bakım', 38: 'Ağız Bakım Ürünleri', 39: 'Çamaşır Yıkama', 40: 'Kağıt Ürünleri', 41: 'Bebek Bezi', 42: 'Kümes Hayvanları', 43: 'Sütlü Tatlı, Krema', 44: 'Parfüm, Deodorant', 45: 'Ev, Ofis, Bahçe Dekorasyon', 46: 'Pet Ürünleri', 47: 'Tekstil, Giyim, Aksesuar', 48: 'Sebze', 49: 'Duş, Banyo, Sabun', 50: 'Mutfak Eşya, Gereçleri', 51: 'Tereyağ, Margarin', 52: 'Sağlıklı Yaşam Ürünleri', 53: 'Unlu Mamül, Tatlı', 54: 'Kahvaltılıklar', 55: 'Maden Suları', 56: 'Saç Bakım', 57: 'Sakız, Şekerleme', 58: 'Gazsız İçecekler', 59: 'Dondurulmuş Gıda', 60: 'Bakliyat, Makarna'}\n"
     ]
    }
   ],
   "source": [
    "print(category_in_mapping)"
   ]
  },
  {
   "cell_type": "code",
   "execution_count": 5,
   "metadata": {},
   "outputs": [],
   "source": [
    "X = []\n",
    "Y = []\n",
    "for category in items:\n",
    "    y = np.zeros(num_cat)\n",
    "    y[category_out_mapping[category[\"Kategori\"]]] = 1\n",
    "    for item in category[\"Item\"]:\n",
    "        x = item[0]\n",
    "        x_vec = np.zeros(400)\n",
    "        count = 0\n",
    "        for word in x.lower().split():\n",
    "            if word in word_vectors:\n",
    "                count+=1\n",
    "                x_vec += word_vectors[word]\n",
    "        if count==0:\n",
    "            continue\n",
    "        else:\n",
    "            X.append(x_vec/count)\n",
    "            Y.append(category_out_mapping[category[\"Kategori\"]])\n",
    "X_train, X_test, y_train, y_test = train_test_split(X, Y, test_size=0.20, random_state=42)"
   ]
  },
  {
   "cell_type": "code",
   "execution_count": 23,
   "metadata": {},
   "outputs": [],
   "source": [
    "clf = LogisticRegression(solver='lbfgs', multi_class='multinomial', max_iter=1000000).fit(X, Y)"
   ]
  },
  {
   "cell_type": "code",
   "execution_count": 25,
   "metadata": {},
   "outputs": [
    {
     "data": {
      "text/plain": [
       "0.8946085897045385"
      ]
     },
     "execution_count": 25,
     "metadata": {},
     "output_type": "execute_result"
    }
   ],
   "source": [
    "clf.score(X, Y)"
   ]
  },
  {
   "cell_type": "code",
   "execution_count": 29,
   "metadata": {},
   "outputs": [],
   "source": [
    "import pickle\n",
    "filename = 'classifier.sav'\n",
    "pickle.dump(clf, open(filename, 'wb'))"
   ]
  },
  {
   "cell_type": "code",
   "execution_count": null,
   "metadata": {},
   "outputs": [],
   "source": []
  },
  {
   "cell_type": "code",
   "execution_count": 14,
   "metadata": {},
   "outputs": [],
   "source": [
    "def pred(tag, threshold=0.65):\n",
    "    c = 0\n",
    "    x = np.zeros(400)\n",
    "    for w in tag.lower().split():\n",
    "        if w in word_vectors:\n",
    "            c += 1\n",
    "            x += word_vectors[w]\n",
    "    x = x/c\n",
    "    probs = clf.predict_proba(x.reshape(1,-1))\n",
    "    if max(probs[0])>threshold:\n",
    "        return category_in_mapping[np.argmax(probs)]\n",
    "    else:\n",
    "        return None"
   ]
  },
  {
   "cell_type": "code",
   "execution_count": 21,
   "metadata": {},
   "outputs": [
    {
     "data": {
      "text/plain": [
       "'Bisküvi, Çerez'"
      ]
     },
     "execution_count": 21,
     "metadata": {},
     "output_type": "execute_result"
    }
   ],
   "source": [
    "pred(\"rakı\")"
   ]
  },
  {
   "cell_type": "code",
   "execution_count": 12,
   "metadata": {},
   "outputs": [
    {
     "name": "stdout",
     "output_type": "stream",
     "text": [
      "0.0 0.7764240024367957 1.0\n",
      "0.05 0.7764240024367957 1.0\n",
      "0.1 0.7773711497407746 1.0\n",
      "0.15000000000000002 0.7821143208358943 0.9984307571596704\n",
      "0.2 0.7897035881435257 0.9929384072185171\n",
      "0.25 0.8026905829596412 0.9831306394664574\n",
      "0.30000000000000004 0.8201320132013201 0.9748921145547274\n",
      "0.35000000000000003 0.8349282296650717 0.9584150647312671\n",
      "0.4 0.8496639547223205 0.9423303256178893\n",
      "0.45 0.8628613787991104 0.9132993330717929\n",
      "0.5 0.8759208995734781 0.8862298940761083\n",
      "0.55 0.8909606809890556 0.8622989407610828\n",
      "0.6000000000000001 0.9053533190578158 0.8293448411141624\n",
      "0.65 0.914568345323741 0.7979599843075716\n",
      "0.7000000000000001 0.9213911386374464 0.7587289132993331\n",
      "0.75 0.929779600205023 0.7116516280894468\n",
      "0.8 0.9368421052631579 0.6633974107493135\n",
      "0.8500000000000001 0.9433846153846154 0.6014123185562966\n",
      "0.9 0.954512105649303 0.5103962338171832\n",
      "0.9500000000000001 0.96 0.3954491957630443\n"
     ]
    }
   ],
   "source": [
    "for i in range(20):\n",
    "    tp = sum([x>i*0.05 for x in correct])\n",
    "    fn = sum([x>i*0.05 for x in wrong])\n",
    "    print(i*0.05, tp/(tp+fn), tp/len(correct))"
   ]
  },
  {
   "cell_type": "code",
   "execution_count": null,
   "metadata": {},
   "outputs": [],
   "source": []
  }
 ],
 "metadata": {
  "kernelspec": {
   "display_name": "Python 3",
   "language": "python",
   "name": "python3"
  },
  "language_info": {
   "codemirror_mode": {
    "name": "ipython",
    "version": 3
   },
   "file_extension": ".py",
   "mimetype": "text/x-python",
   "name": "python",
   "nbconvert_exporter": "python",
   "pygments_lexer": "ipython3",
   "version": "3.6.7"
  }
 },
 "nbformat": 4,
 "nbformat_minor": 2
}
