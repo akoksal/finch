{
 "cells": [
  {
   "cell_type": "code",
   "execution_count": 52,
   "metadata": {},
   "outputs": [],
   "source": [
    "import pickle\n",
    "from gensim.models import KeyedVectors\n",
    "import numpy as np"
   ]
  },
  {
   "cell_type": "code",
   "execution_count": 53,
   "metadata": {},
   "outputs": [],
   "source": [
    "word_vectors = KeyedVectors.load_word2vec_format('trmodel', binary=True)\n",
    "clf = pickle.load(open(\"classifier.sav\", 'rb'))\n",
    "category_in_mapping = {0: 'Şekersiz Tatlandırıcılı Ürünler', 1: 'Sıvı Yağlar', 2: 'Çamaşır Gereçleri', 3: 'Yoğurt', 4: 'Çikolata, Gofret', 5: 'Gazlı İçecekler', 6: 'Süt', 7: 'Çay, Kahve', 8: 'Ev Temizlik Gereçleri', 9: 'Banyo Gereçleri', 10: 'Hijyenik Pedler', 11: 'Anne Ürünleri', 12: 'Kırmızı Et', 13: 'Makyaj Ve Süs Ürünleri', 14: 'Günlük İçecek', 15: 'Şeker', 16: 'Bisküvi, Çerez', 17: 'Yumurta', 18: 'Hazır Yemek, Konserve, Salça', 19: 'Meze', 20: 'Sular', 21: 'Kişisel İlgi, Eğlence', 22: 'Dondurma', 23: 'Çorba Ve Bulyonlar', 24: 'Ağdalar, Tüy Dökücüler', 25: 'Peynir', 26: 'Bulaşık Yıkama', 27: 'Bebek Ürünleri', 28: 'Meyve', 29: 'Tıraş Malzemeleri', 30: 'Bahçe, Çiçek, Kamp, Piknik', 31: 'Sağlık Ürünleri', 32: 'Kitap, Dergi, Kırtasiye', 33: 'Tuz, Baharat, Harç', 34: 'Elektrik, Elektronik', 35: 'Oyuncaklar', 36: 'Ev Temizlik Ürünleri', 37: 'Vücut, Cilt Bakım', 38: 'Ağız Bakım Ürünleri', 39: 'Çamaşır Yıkama', 40: 'Kağıt Ürünleri', 41: 'Bebek Bezi', 42: 'Kümes Hayvanları', 43: 'Sütlü Tatlı, Krema', 44: 'Parfüm, Deodorant', 45: 'Ev, Ofis, Bahçe Dekorasyon', 46: 'Pet Ürünleri', 47: 'Tekstil, Giyim, Aksesuar', 48: 'Sebze', 49: 'Duş, Banyo, Sabun', 50: 'Mutfak Eşya, Gereçleri', 51: 'Tereyağ, Margarin', 52: 'Sağlıklı Yaşam Ürünleri', 53: 'Unlu Mamül, Tatlı', 54: 'Kahvaltılıklar', 55: 'Maden Suları', 56: 'Saç Bakım', 57: 'Sakız, Şekerleme', 58: 'Gazsız İçecekler', 59: 'Dondurulmuş Gıda', 60: 'Bakliyat, Makarna', 61: 'Benzin', 62: 'Sigara', 63: 'Alkol', 64: 'Restoran'}"
   ]
  },
  {
   "cell_type": "code",
   "execution_count": 54,
   "metadata": {},
   "outputs": [],
   "source": [
    "def pred(tag, threshold=0.65):\n",
    "    word_lower = set(tag.lower().split())\n",
    "    if \"kola\" in word_lower:\n",
    "        return \"Gazlı İçecekler\"\n",
    "    if len({\"benzin\", \"motorin\", \"kursunsuz\", \"kurşunsuz\"}.intersection(word_lower))>0:\n",
    "        return \"Benzin\"\n",
    "    if len({\"parliament\", \"marlboro\", \"camel\", \"winston\", \"sigara\", \"rothmans\", \"sig.\"}.intersection(word_lower))>0:\n",
    "        return \"Sigara\"\n",
    "    if len({\"bira\", \"rakı\", \"alkol\", \"şarap\", \"viski\", \"votka\", \"tekila\", \"chivas\", \"konyak\"}.intersection(word_lower))>0:\n",
    "        return \"Alkol\"\n",
    "    \n",
    "    \n",
    "    c = 0\n",
    "    x = np.zeros(400)\n",
    "    for w in word_lower:\n",
    "        if w in word_vectors:\n",
    "            c += 1\n",
    "            x += word_vectors[w]\n",
    "    x = x/c\n",
    "    probs = clf.predict_proba(x.reshape(1,-1))\n",
    "    if max(probs[0])>threshold:\n",
    "        return category_in_mapping[np.argmax(probs)]\n",
    "    else:\n",
    "        return None"
   ]
  },
  {
   "cell_type": "code",
   "execution_count": 56,
   "metadata": {},
   "outputs": [],
   "source": [
    "pred(\"omo\")"
   ]
  },
  {
   "cell_type": "code",
   "execution_count": 38,
   "metadata": {},
   "outputs": [
    {
     "data": {
      "text/plain": [
       "{'a', 'l'}"
      ]
     },
     "execution_count": 38,
     "metadata": {},
     "output_type": "execute_result"
    }
   ],
   "source": []
  },
  {
   "cell_type": "code",
   "execution_count": null,
   "metadata": {},
   "outputs": [],
   "source": []
  }
 ],
 "metadata": {
  "kernelspec": {
   "display_name": "Python 3",
   "language": "python",
   "name": "python3"
  },
  "language_info": {
   "codemirror_mode": {
    "name": "ipython",
    "version": 3
   },
   "file_extension": ".py",
   "mimetype": "text/x-python",
   "name": "python",
   "nbconvert_exporter": "python",
   "pygments_lexer": "ipython3",
   "version": "3.6.7"
  }
 },
 "nbformat": 4,
 "nbformat_minor": 2
}
