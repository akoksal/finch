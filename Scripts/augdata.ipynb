{
 "cells": [
  {
   "cell_type": "code",
   "execution_count": 63,
   "metadata": {},
   "outputs": [],
   "source": [
    "import json\n",
    "import numpy as np"
   ]
  },
  {
   "cell_type": "code",
   "execution_count": 64,
   "metadata": {},
   "outputs": [],
   "source": [
    "with open(\"items.json\") as f:\n",
    "    items = json.load(f)"
   ]
  },
  {
   "cell_type": "code",
   "execution_count": 65,
   "metadata": {},
   "outputs": [],
   "source": [
    "import random\n",
    "import time\n",
    "\n",
    "def strTimeProp(start, end, format, prop):\n",
    "    \"\"\"Get a time at a proportion of a range of two formatted times.\n",
    "\n",
    "    start and end should be strings specifying times formated in the\n",
    "    given format (strftime-style), giving an interval [start, end].\n",
    "    prop specifies how a proportion of the interval to be taken after\n",
    "    start.  The returned time will be in the specified format.\n",
    "    \"\"\"\n",
    "\n",
    "    stime = time.mktime(time.strptime(start, format))\n",
    "    etime = time.mktime(time.strptime(end, format))\n",
    "\n",
    "    ptime = stime + prop * (etime - stime)\n",
    "\n",
    "    return time.strftime(format, time.localtime(ptime))\n",
    "\n",
    "\n",
    "def randomDate(start, end, occ):\n",
    "    times = []\n",
    "    for i in range(occ):\n",
    "        times.append(strTimeProp(start, end, '%Y-%m-%dT%H:%M:%SZ', random.random()))\n",
    "    return times"
   ]
  },
  {
   "cell_type": "code",
   "execution_count": 28,
   "metadata": {},
   "outputs": [
    {
     "name": "stdout",
     "output_type": "stream",
     "text": [
      "['2019-04-06T21:34:04Z', '2019-03-18T00:15:19Z', '2019-04-07T12:05:12Z', '2019-04-08T16:18:51Z', '2019-04-10T21:48:03Z', '2019-04-08T18:39:50Z', '2019-03-21T14:44:23Z', '2019-03-21T05:10:42Z', '2019-03-20T19:10:46Z', '2019-03-31T05:01:02Z']\n"
     ]
    }
   ],
   "source": [
    "print(randomDate(\"2019-04-12T15:32:01Z\", \"2019-03-12T15:32:01Z\", 10))"
   ]
  },
  {
   "cell_type": "code",
   "execution_count": 101,
   "metadata": {},
   "outputs": [],
   "source": [
    "def randomize_market(date):\n",
    "    no_items = np.random.randint(3,10)\n",
    "    item_als = []\n",
    "    tot_price = 0\n",
    "    for i in range(no_items):\n",
    "        cat = np.random.randint(len(items))\n",
    "        kategori = items[cat][\"Kategori\"]\n",
    "        it_id = np.random.randint(len(items[cat][\"Item\"]))\n",
    "        item_name = items[cat][\"Item\"][it_id][0]\n",
    "        item_price = items[cat][\"Item\"][it_id][1]\n",
    "        item_price = item_price.replace(\" TL\",\"\")\n",
    "        item_price = item_price.replace(\",\",\".\")\n",
    "        item_als.append({\"category\":kategori, \"name\":item_name, \"totalAmount\":float(\"{0:.2f}\".format(float(item_price)))})\n",
    "        tot_price += float(item_price)\n",
    "    \n",
    "    market = random.choice([\"Migros\", \"CarrefourSA\", \"BİM\"])\n",
    "    shop = {\n",
    "    \"items\" : item_als,\n",
    "    \"createdAt\": date,\n",
    "    \"category\" : \"market\",\n",
    "    \"name\" : market,\n",
    "    \"totalAmount\" : float(\"{0:.2f}\".format(tot_price)),\n",
    "    \"user\" : \"halil@cetiner.me\",\n",
    "    \"__v\" : 0\n",
    "    }\n",
    "    return shop"
   ]
  },
  {
   "cell_type": "code",
   "execution_count": 102,
   "metadata": {},
   "outputs": [],
   "source": [
    "def randomize_benzin(date):\n",
    "    kategori = \"Benzin\"\n",
    "    item_name = random.choice([\"Kurşunsuz\", \"Motorin\", \"LPG\", \"95 Oktan\"])\n",
    "    item_price = random.choice([50, 75, 100, 125, 110, 40, 90, 150, 200, 250])\n",
    "    item_als = [{\"category\":kategori, \"name\":item_name, \"totalAmount\":float(\"{0:.2f}\".format(float(item_price)))}]\n",
    "    tot_price = float(item_price)\n",
    "\n",
    "    market = random.choice([\"Petrol Ofisi\", \"Shell\", \"Opet\"])\n",
    "    shop = {\n",
    "    \"items\" : item_als,\n",
    "    \"createdAt\": date,\n",
    "    \"category\" : \"benzin\",\n",
    "    \"name\" : market,\n",
    "    \"totalAmount\" : float(\"{0:.2f}\".format(tot_price)),\n",
    "    \"user\" : \"halil@cetiner.me\",\n",
    "    \"__v\" : 0\n",
    "    }\n",
    "    return shop"
   ]
  },
  {
   "cell_type": "code",
   "execution_count": 156,
   "metadata": {},
   "outputs": [],
   "source": [
    "def randomize_cafe(date):\n",
    "    no_items = np.random.randint(1,4)\n",
    "    item_als = []\n",
    "    tot_price = 0\n",
    "    cafe_ids = list(range(len(cafe_items)))\n",
    "    random.shuffle(cafe_ids)\n",
    "    for item in cafe_ids[:no_items]:\n",
    "        kategori = cafe_cats[item]\n",
    "        item_name = cafe_items[item]\n",
    "        item_price = np.random.randint(10,100)*0.25\n",
    "        item_als.append({\"category\":kategori, \"name\":item_name, \"totalAmount\":float(\"{0:.2f}\".format(float(item_price)))})\n",
    "        tot_price += float(item_price)\n",
    "    \n",
    "    market = random.choice([\"Kahve Dünyası\", \"Starbucks\", \"Tchibo\", \"Cafe Nero\", \"Beyaz Fırın\"])\n",
    "    shop = {\n",
    "    \"items\" : item_als,\n",
    "    \"createdAt\": date,\n",
    "    \"category\" : \"Cafe & Restoran\",\n",
    "    \"name\" : market,\n",
    "    \"totalAmount\" : float(\"{0:.2f}\".format(tot_price)),\n",
    "    \"user\" : \"halil@cetiner.me\",\n",
    "    \"__v\" : 0\n",
    "    }\n",
    "    return shop"
   ]
  },
  {
   "cell_type": "code",
   "execution_count": 159,
   "metadata": {},
   "outputs": [],
   "source": [
    "def randomize_restoran(date):\n",
    "    no_items = np.random.randint(1,4)\n",
    "    item_als = []\n",
    "    tot_price = 0\n",
    "    rest_ids = list(range(len(rest_items)))\n",
    "    random.shuffle(rest_ids)\n",
    "    for item in rest_ids[:no_items]:\n",
    "        kategori = rest_cats[item]\n",
    "        item_name = rest_items[item]\n",
    "        item_price = np.random.randint(10,100)*0.25\n",
    "        item_als.append({\"category\":kategori, \"name\":item_name, \"totalAmount\":float(\"{0:.2f}\".format(float(item_price)))})\n",
    "        tot_price += float(item_price)\n",
    "    \n",
    "    market = random.choice([\"Tavuk Dünyası\", \"Balıkçı\", \"Pidem\", \"HD İskender\"])\n",
    "    shop = {\n",
    "    \"items\" : item_als,\n",
    "    \"createdAt\": date,\n",
    "    \"category\" : \"Cafe & Restoran\",\n",
    "    \"name\" : market,\n",
    "    \"totalAmount\" : float(\"{0:.2f}\".format(tot_price)),\n",
    "    \"user\" : \"halil@cetiner.me\",\n",
    "    \"__v\" : 0\n",
    "    }\n",
    "    return shop"
   ]
  },
  {
   "cell_type": "code",
   "execution_count": 160,
   "metadata": {},
   "outputs": [],
   "source": [
    "from datetime import datetime"
   ]
  },
  {
   "cell_type": "code",
   "execution_count": 172,
   "metadata": {},
   "outputs": [],
   "source": [
    "shopping = []"
   ]
  },
  {
   "cell_type": "code",
   "execution_count": 173,
   "metadata": {},
   "outputs": [],
   "source": [
    "st = datetime.timestamp(datetime.strptime('12-03-2019', '%d-%m-%Y'))\n",
    "et = datetime.timestamp(datetime.strptime('12-04-2019', '%d-%m-%Y'))\n",
    "occurence = 10\n",
    "dates = sorted([random.randrange(*sorted([st,et])) for i in range(occurence)])\n",
    "for i in range(occurence):\n",
    "    shopping.append(randomize_market(dates[i]))"
   ]
  },
  {
   "cell_type": "code",
   "execution_count": 174,
   "metadata": {},
   "outputs": [],
   "source": [
    "st = datetime.timestamp(datetime.strptime('12-03-2019', '%d-%m-%Y'))\n",
    "et = datetime.timestamp(datetime.strptime('12-04-2019', '%d-%m-%Y'))\n",
    "occurence = 4\n",
    "dates = sorted([random.randrange(*sorted([st,et])) for i in range(occurence)])\n",
    "for i in range(occurence):\n",
    "    shopping.append(randomize_benzin(dates[i]))"
   ]
  },
  {
   "cell_type": "code",
   "execution_count": 175,
   "metadata": {},
   "outputs": [],
   "source": [
    "st = datetime.timestamp(datetime.strptime('12-03-2019', '%d-%m-%Y'))\n",
    "et = datetime.timestamp(datetime.strptime('12-04-2019', '%d-%m-%Y'))\n",
    "occurence = 20\n",
    "dates = sorted([random.randrange(*sorted([st,et])) for i in range(occurence)])\n",
    "for i in range(occurence):\n",
    "    shopping.append(randomize_cafe(dates[i]))"
   ]
  },
  {
   "cell_type": "code",
   "execution_count": 176,
   "metadata": {},
   "outputs": [],
   "source": [
    "st = datetime.timestamp(datetime.strptime('12-03-2019', '%d-%m-%Y'))\n",
    "et = datetime.timestamp(datetime.strptime('12-04-2019', '%d-%m-%Y'))\n",
    "occurence = 5\n",
    "dates = sorted([random.randrange(*sorted([st,et])) for i in range(occurence)])\n",
    "for i in range(occurence):\n",
    "    shopping.append(randomize_restoran(dates[i]))"
   ]
  },
  {
   "cell_type": "code",
   "execution_count": null,
   "metadata": {},
   "outputs": [],
   "source": []
  },
  {
   "cell_type": "code",
   "execution_count": 177,
   "metadata": {},
   "outputs": [],
   "source": [
    "st = datetime.timestamp(datetime.strptime('12-02-2019', '%d-%m-%Y'))\n",
    "et = datetime.timestamp(datetime.strptime('12-03-2019', '%d-%m-%Y'))\n",
    "occurence = 8\n",
    "dates = sorted([random.randrange(*sorted([st,et])) for i in range(occurence)])\n",
    "for i in range(occurence):\n",
    "    shopping.append(randomize_market(dates[i]))"
   ]
  },
  {
   "cell_type": "code",
   "execution_count": 178,
   "metadata": {},
   "outputs": [],
   "source": [
    "st = datetime.timestamp(datetime.strptime('12-02-2019', '%d-%m-%Y'))\n",
    "et = datetime.timestamp(datetime.strptime('12-03-2019', '%d-%m-%Y'))\n",
    "occurence = 3\n",
    "dates = sorted([random.randrange(*sorted([st,et])) for i in range(occurence)])\n",
    "for i in range(occurence):\n",
    "    shopping.append(randomize_benzin(dates[i]))"
   ]
  },
  {
   "cell_type": "code",
   "execution_count": 179,
   "metadata": {},
   "outputs": [],
   "source": [
    "st = datetime.timestamp(datetime.strptime('12-02-2019', '%d-%m-%Y'))\n",
    "et = datetime.timestamp(datetime.strptime('12-03-2019', '%d-%m-%Y'))\n",
    "occurence = 10\n",
    "dates = sorted([random.randrange(*sorted([st,et])) for i in range(occurence)])\n",
    "for i in range(occurence):\n",
    "    shopping.append(randomize_cafe(dates[i]))"
   ]
  },
  {
   "cell_type": "code",
   "execution_count": 180,
   "metadata": {},
   "outputs": [],
   "source": [
    "st = datetime.timestamp(datetime.strptime('12-02-2019', '%d-%m-%Y'))\n",
    "et = datetime.timestamp(datetime.strptime('12-03-2019', '%d-%m-%Y'))\n",
    "occurence = 8\n",
    "dates = sorted([random.randrange(*sorted([st,et])) for i in range(occurence)])\n",
    "for i in range(occurence):\n",
    "    shopping.append(randomize_restoran(dates[i]))"
   ]
  },
  {
   "cell_type": "code",
   "execution_count": 184,
   "metadata": {},
   "outputs": [],
   "source": [
    "with open(\"shopping.json\", \"w\") as f:\n",
    "    json.dump(shopping, f, ensure_ascii=False)"
   ]
  },
  {
   "cell_type": "code",
   "execution_count": null,
   "metadata": {},
   "outputs": [],
   "source": [
    "category_in_mapping = {0: 'Şekersiz Tatlandırıcılı Ürünler', 1: 'Sıvı Yağlar', 2: 'Çamaşır Gereçleri', 3: 'Yoğurt', 4: 'Çikolata, Gofret', 5: 'Gazlı İçecekler', 6: 'Süt', 7: 'Çay, Kahve', 8: 'Ev Temizlik Gereçleri', 9: 'Banyo Gereçleri', 10: 'Hijyenik Pedler', 11: 'Anne Ürünleri', 12: 'Kırmızı Et', 13: 'Makyaj Ve Süs Ürünleri', 14: 'Günlük İçecek', 15: 'Şeker', 16: 'Bisküvi, Çerez', 17: 'Yumurta', 18: 'Hazır Yemek, Konserve, Salça', 19: 'Meze', 20: 'Sular', 21: 'Kişisel İlgi, Eğlence', 22: 'Dondurma', 23: 'Çorba Ve Bulyonlar', 24: 'Ağdalar, Tüy Dökücüler', 25: 'Peynir', 26: 'Bulaşık Yıkama', 27: 'Bebek Ürünleri', 28: 'Meyve', 29: 'Tıraş Malzemeleri', 30: 'Bahçe, Çiçek, Kamp, Piknik', 31: 'Sağlık Ürünleri', 32: 'Kitap, Dergi, Kırtasiye', 33: 'Tuz, Baharat, Harç', 34: 'Elektrik, Elektronik', 35: 'Oyuncaklar', 36: 'Ev Temizlik Ürünleri', 37: 'Vücut, Cilt Bakım', 38: 'Ağız Bakım Ürünleri', 39: 'Çamaşır Yıkama', 40: 'Kağıt Ürünleri', 41: 'Bebek Bezi', 42: 'Kümes Hayvanları', 43: 'Sütlü Tatlı, Krema', 44: 'Parfüm, Deodorant', 45: 'Ev, Ofis, Bahçe Dekorasyon', 46: 'Pet Ürünleri', 47: 'Tekstil, Giyim, Aksesuar', 48: 'Sebze', 49: 'Duş, Banyo, Sabun', 50: 'Mutfak Eşya, Gereçleri', 51: 'Tereyağ, Margarin', 52: 'Sağlıklı Yaşam Ürünleri', 53: 'Unlu Mamül, Tatlı', 54: 'Kahvaltılıklar', 55: 'Maden Suları', 56: 'Saç Bakım', 57: 'Sakız, Şekerleme', 58: 'Gazsız İçecekler', 59: 'Dondurulmuş Gıda', 60: 'Bakliyat, Makarna', 61: 'Benzin', 62: 'Sigara', 63: 'Alkol', 64: 'Restoran'}"
   ]
  },
  {
   "cell_type": "code",
   "execution_count": 165,
   "metadata": {},
   "outputs": [],
   "source": [
    "\n",
    "rest_items = [\"Yiyecek\", \"Döner\", \"Balık\", \"Ayran\"]\n",
    "rest_cats = [\"Restoran\", \"Kırmızı Et\", \"Balık, Deniz Ürünleri\", \"Günlük İçecek\"]"
   ]
  },
  {
   "cell_type": "code",
   "execution_count": 121,
   "metadata": {},
   "outputs": [],
   "source": []
  },
  {
   "cell_type": "code",
   "execution_count": 122,
   "metadata": {},
   "outputs": [],
   "source": [
    "cafe_items = [\"Çay\", \"Kahve\", \"Tatlı\", \"Kola\", \"Soda\"]\n",
    "cafe_cats = [\"Çay, Kahve\", \"Çay, Kahve\", \"Restoran\", \"Gazlı İçecek\", \"Maden Suları\"]"
   ]
  },
  {
   "cell_type": "code",
   "execution_count": null,
   "metadata": {},
   "outputs": [],
   "source": []
  }
 ],
 "metadata": {
  "kernelspec": {
   "display_name": "Python 3",
   "language": "python",
   "name": "python3"
  },
  "language_info": {
   "codemirror_mode": {
    "name": "ipython",
    "version": 3
   },
   "file_extension": ".py",
   "mimetype": "text/x-python",
   "name": "python",
   "nbconvert_exporter": "python",
   "pygments_lexer": "ipython3",
   "version": "3.6.7"
  }
 },
 "nbformat": 4,
 "nbformat_minor": 2
}
